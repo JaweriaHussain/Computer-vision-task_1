{
 "cells": [
  {
   "cell_type": "code",
   "execution_count": 1,
   "metadata": {},
   "outputs": [],
   "source": [
    "import cv2\n",
    "\n",
    "img = cv2.imread('test_image.jpg')\n",
    "cv2.imshow('Image', img)\n",
    "cv2.waitKey(0)\n",
    "cv2.destroyAllWindows()\n"
   ]
  },
  {
   "cell_type": "code",
   "execution_count": 2,
   "metadata": {},
   "outputs": [],
   "source": [
    "import cv2\n",
    "\n",
    "# Load the noisy image\n",
    "img = cv2.imread('test_image.jpg')\n",
    "\n",
    "# Apply Gaussian blur with a 5x5 kernel and a standard deviation of 0\n",
    "blur = cv2.GaussianBlur(img, (7, 7), 2.5)\n",
    "\n",
    "# Display the results\n",
    "cv2.imshow('Original', img)\n",
    "cv2.imshow('Blurred', blur)\n",
    "cv2.waitKey(0)\n",
    "cv2.destroyAllWindows()\n"
   ]
  },
  {
   "cell_type": "code",
   "execution_count": 3,
   "metadata": {},
   "outputs": [],
   "source": [
    "gray_img = cv2.cvtColor(img, cv2.COLOR_BGR2GRAY)\n",
    "cv2.imshow('gray_img',gray_img)\n",
    "cv2.waitKey(0)\n",
    "cv2.destroyAllWindows()"
   ]
  },
  {
   "cell_type": "code",
   "execution_count": 6,
   "metadata": {},
   "outputs": [],
   "source": [
    "#flipping around x axies and y axies both\n",
    "img_vertical = cv2.flip(img, -1)\n",
    "cv2.imshow('Vertically Flipped Image', img_vertical)\n",
    "cv2.waitKey(0)\n",
    "cv2.destroyAllWindows()"
   ]
  },
  {
   "cell_type": "code",
   "execution_count": null,
   "metadata": {},
   "outputs": [],
   "source": [
    "#flipping around x axies vertically\n",
    "img_vertical = cv2.flip(img, 0)\n",
    "cv2.imshow('Vertically Flipped Image', img_vertical)\n",
    "cv2.waitKey(0)\n",
    "cv2.destroyAllWindows()"
   ]
  },
  {
   "cell_type": "code",
   "execution_count": 7,
   "metadata": {},
   "outputs": [],
   "source": [
    "#flipping around y axies horizentaly \n",
    "horizental_img = cv2.flip(img, 1)\n",
    "cv2.imshow('Horizental Flipped Image', horizental_img)\n",
    "cv2.waitKey(0)\n",
    "cv2.destroyAllWindows()"
   ]
  },
  {
   "cell_type": "code",
   "execution_count": 11,
   "metadata": {},
   "outputs": [],
   "source": [
    "#changing saturation of image\n",
    "import numpy as np\n",
    "img_hsv = cv2.cvtColor(img, cv2.COLOR_BGR2HSV)\n",
    "img_hsv[:, :, 1] = np.clip(img_hsv[:, :, 1]*2, 0, 255)\n",
    "img_saturation = cv2.cvtColor(img_hsv, cv2.COLOR_HSV2BGR)\n",
    "cv2.imshow('Original Image', img)\n",
    "cv2.imshow('Saturation Adjusted Image', img_saturation)\n",
    "cv2.waitKey(0)\n",
    "cv2.destroyAllWindows()"
   ]
  }
 ],
 "metadata": {
  "kernelspec": {
   "display_name": "Python 3",
   "language": "python",
   "name": "python3"
  },
  "language_info": {
   "codemirror_mode": {
    "name": "ipython",
    "version": 3
   },
   "file_extension": ".py",
   "mimetype": "text/x-python",
   "name": "python",
   "nbconvert_exporter": "python",
   "pygments_lexer": "ipython3",
   "version": "3.10.10"
  },
  "orig_nbformat": 4
 },
 "nbformat": 4,
 "nbformat_minor": 2
}
